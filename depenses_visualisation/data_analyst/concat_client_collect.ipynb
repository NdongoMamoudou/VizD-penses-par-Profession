{
 "cells": [
  {
   "cell_type": "code",
   "execution_count": 4,
   "metadata": {},
   "outputs": [],
   "source": [
    "import pandas as pd\n",
    "import numpy as np "
   ]
  },
  {
   "cell_type": "code",
   "execution_count": 5,
   "metadata": {},
   "outputs": [],
   "source": [
    "df1 = pd.read_csv(\"D:/ProjetPerso/Projet_Application/depenses_visualisation/data_analyst/dataset/DataAnalyse_client.csv\")\n",
    "df2= pd.read_csv(\"D:/ProjetPerso/Projet_Application/depenses_visualisation/data_analyst/dataset/DataAnalyse_collectdata.csv\")"
   ]
  },
  {
   "cell_type": "code",
   "execution_count": 6,
   "metadata": {},
   "outputs": [],
   "source": [
    "df = pd.concat([df1, df2])\n",
    "\n",
    "df['cloths'] = df2['cloths'] \n",
    "df['underwear'] = df2['underwear'] \n",
    "df['sportswear'] = df2['sportswear'] \n",
    "df['accessories'] = df2['accessories'] \n",
    "\n",
    "df.to_csv('dataset/concat_client_collect.csv', index=False)"
   ]
  }
 ],
 "metadata": {
  "kernelspec": {
   "display_name": "Env_IA",
   "language": "python",
   "name": "python3"
  },
  "language_info": {
   "codemirror_mode": {
    "name": "ipython",
    "version": 3
   },
   "file_extension": ".py",
   "mimetype": "text/x-python",
   "name": "python",
   "nbconvert_exporter": "python",
   "pygments_lexer": "ipython3",
   "version": "3.12.5"
  }
 },
 "nbformat": 4,
 "nbformat_minor": 2
}
